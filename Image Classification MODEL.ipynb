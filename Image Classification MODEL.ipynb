{
 "cells": [
  {
   "cell_type": "markdown",
   "metadata": {},
   "source": [
    "## Image Classification"
   ]
  },
  {
   "cell_type": "markdown",
   "metadata": {},
   "source": [
    "The basic 7 steps for building models in general are listed so:\n",
    "\n",
    "1. Load Dataset\n",
    "2. Make Dataset Iterable\n",
    "3. Create Model Class\n",
    "4. Instantiate Model Class\n",
    "5. Instantiate Loss Class\n",
    "6. Instantiate Optimizer Class\n",
    "7. Train Model"
   ]
  },
  {
   "cell_type": "code",
   "execution_count": 3,
   "metadata": {},
   "outputs": [],
   "source": [
    "import torch\n",
    "import torch.nn as nn\n",
    "import torchvision.transforms as transforms\n",
    "import torchvision.datasets as dsets\n",
    "import pandas as pd\n",
    "import numpy as np\n",
    "import matplotlib.pyplot as plt\n",
    "\n",
    "from torch.utils.data import Dataset, DataLoader"
   ]
  },
  {
   "cell_type": "code",
   "execution_count": 4,
   "metadata": {},
   "outputs": [
    {
     "data": {
      "text/plain": [
       "'\\nSTEP 1: LOAD DATASET\\n'"
      ]
     },
     "execution_count": 4,
     "metadata": {},
     "output_type": "execute_result"
    }
   ],
   "source": [
    "'''\n",
    "STEP 1: LOAD DATASET\n",
    "'''\n",
    "# test_df = pd.read_csv('fashionmnist/fashion-mnist_test.csv')\n",
    "# test_df_labels = test_df['label']\n",
    "# test_pixels_df = test_df.drop('label', axis=1)\n",
    "\n",
    "# train_df = pd.read_csv('fashionmnist/fashion-mnist_train.csv')\n",
    "# train_pixels_df = train_df.drop('label', axis=1)\n",
    "# train_df_labels = train_df['label']\n"
   ]
  },
  {
   "cell_type": "code",
   "execution_count": 7,
   "metadata": {},
   "outputs": [],
   "source": [
    "'''\n",
    "STEP 1.5: defining and instantiating Dataset subclass \n",
    "'''\n",
    "\n",
    "'''\n",
    "This is our custom Dataset class. Remember from 1st meeting that we need this to pipeline our data into training our model.\n",
    "\n",
    "The pipeline is important!!! At larger scale, machine learning can get bottlenecked at disk reads (in image classification for example)\n",
    "so understanding the various stages is important. We don't have to worry about that kind of stuff now since we're just creating small\n",
    "project models as opposed to complex production models.\n",
    "\n",
    "NOTE: this is not the only way to create a dataset. An alternative is to simply pass in a dataframe that contains both pixel and label data.\n",
    "Then we can index the label and pixel data inside of __getitem__ as opposed to separating labels and pixel data before hand like I did.\n",
    "'''\n",
    "class FashionDataset(Dataset):\n",
    "    def __init__(self, dataframe, labels):\n",
    "        self.labels = torch.LongTensor(labels)\n",
    "        self.df = dataframe\n",
    "        \n",
    "    def __getitem__(self, index):\n",
    "        # I'm using .loc to access the row of the dataframe by index\n",
    "        a = self.df.loc[index]\n",
    "#         a = (a - np.mean(a))/np.std(a)\n",
    "        img = torch.Tensor(a)\n",
    "        label = self.labels[index]\n",
    "        return img, label\n",
    "\n",
    "    def __len__(self):\n",
    "        return len(self.labels)\n",
    "    \n",
    "'''\n",
    "This class is for providing image data as (1, 28, 28) tensor as opposed to a (784) tensor. You\n",
    "use these for conv2d layers which are powerful for image recognition!\n",
    "\n",
    "NOTE: Please note that I normalized the data VERY INCORRECTLY. Here I am normalizing the data across \n",
    "each sample individually which is not good. I should be normalizing across the ENTIRE training data set.\n",
    "\n",
    "Also, when I create the test dataset I should normalize it based on the TRAINING set's mean and standard deviation.\n",
    "Since the model is trained on the training data, we want to make sure that we transform the test data the same way we\n",
    "transform the training data. Otherwise it's like training a model to do one job and then testing it by on another job.\n",
    "'''\n",
    "class Fashion2DDataset(Dataset):\n",
    "    def __init__(self, dataframe, labels):\n",
    "        self.labels = torch.LongTensor(labels)\n",
    "        self.df = dataframe\n",
    "        \n",
    "    def __getitem__(self, index):\n",
    "        # I'm using .loc to access the row of the dataframe by index\n",
    "        a = self.df.loc[index]\n",
    "        a = (a - np.mean(a))/np.std(a)\n",
    "        a = np.split(a, 28)\n",
    "        a = np.array([a])\n",
    "        img = torch.Tensor(a)\n",
    "        \n",
    "        label = self.labels[index]\n",
    "        return img, label\n",
    "\n",
    "    def __len__(self):\n",
    "        return len(self.labels)"
   ]
  },
  {
   "cell_type": "code",
   "execution_count": 8,
   "metadata": {},
   "outputs": [
    {
     "data": {
      "text/plain": [
       "'\\nSTEP 2: MAKING DATASET ITERABLE\\n'"
      ]
     },
     "execution_count": 8,
     "metadata": {},
     "output_type": "execute_result"
    }
   ],
   "source": [
    "'''\n",
    "STEP 2: MAKING DATASET ITERABLE\n",
    "'''\n",
    "# train_dataset = Fashion2DDataset(train_pixels_df, train_df_labels.values)\n",
    "# test_dataset = Fashion2DDataset(test_pixels_df, test_df_labels.values)\n",
    "\n",
    "# batch_size = 100\n",
    "\n",
    "# train_loader = torch.utils.data.DataLoader(dataset=train_dataset, \n",
    "#                                            batch_size=batch_size, \n",
    "#                                            shuffle=True)\n",
    "\n",
    "# test_loader = torch.utils.data.DataLoader(dataset=test_dataset, \n",
    "#                                           batch_size=batch_size, \n",
    "#                                           shuffle=False)"
   ]
  },
  {
   "cell_type": "code",
   "execution_count": 9,
   "metadata": {},
   "outputs": [],
   "source": [
    "'''\n",
    "STEP 3: CREATE MODEL CLASS\n",
    "'''\n",
    "class FeedforwardNeuralNetModel(nn.Module):\n",
    "    def __init__(self, input_dim, hidden_dim, output_dim):\n",
    "        super(FeedforwardNeuralNetModel, self).__init__()\n",
    "        self.fc1 = nn.Linear(input_dim, hidden_dim) \n",
    "        self.relu = nn.ReLU()\n",
    "        self.fc2 = nn.Linear(hidden_dim, output_dim)  \n",
    "\n",
    "    def forward(self, x):\n",
    "        out = self.fc1(x)\n",
    "        out = self.relu(out)\n",
    "        out = self.fc2(out)\n",
    "        return out\n",
    "    \n",
    "class ConvolutionalNeuralNetModel(nn.Module):\n",
    "    def __init__(self, output_dim):\n",
    "        super(ConvolutionalNeuralNetModel, self).__init__()\n",
    "        self.conv1 = nn.Conv2d(1, 16, kernel_size=4, stride=2, padding=2, bias=False)\n",
    "        self.bn1 = nn.BatchNorm2d(16)\n",
    "        self.relu = nn.ReLU(inplace=True)\n",
    "        self.maxpool = nn.MaxPool2d(kernel_size=2, stride=2, padding=1)\n",
    "        self.fc = nn.Linear(1024, output_dim)\n",
    "\n",
    "    def forward(self, x):\n",
    "        out = self.conv1(x)\n",
    "        out = self.bn1(out)\n",
    "        out = self.relu(out)\n",
    "        out = self.maxpool(out)\n",
    "        out = out.view(out.size(0), -1)\n",
    "        out = self.fc(out)\n",
    "        return out"
   ]
  },
  {
   "cell_type": "code",
   "execution_count": 10,
   "metadata": {},
   "outputs": [],
   "source": [
    "'''\n",
    "STEP 4: INSTANTIATE MODEL CLASS\n",
    "'''\n",
    "input_dim = 28*28\n",
    "hidden_dim = 100\n",
    "output_dim = 10\n",
    "\n",
    "# model = FeedforwardNeuralNetModel(input_dim, hidden_dim, output_dim)\n",
    "model = ConvolutionalNeuralNetModel(output_dim)"
   ]
  },
  {
   "cell_type": "code",
   "execution_count": 11,
   "metadata": {},
   "outputs": [],
   "source": [
    "'''\n",
    "STEP 5: INSTANTIATE LOSS CLASS\n",
    "'''\n",
    "criterion = nn.CrossEntropyLoss()"
   ]
  },
  {
   "cell_type": "code",
   "execution_count": 12,
   "metadata": {},
   "outputs": [],
   "source": [
    "\n",
    "'''\n",
    "STEP 6: INSTANTIATE OPTIMIZER CLASS\n",
    "'''\n",
    "\"\"\"\n",
    "Most of the time I use SGD. Feel free to use another optimizer if you wish.\n",
    "What hyperparameters would you use/set here?\n",
    "\"\"\"\n",
    "learning_rate = .1\n",
    "\n",
    "optimizer = torch.optim.SGD(model.parameters(), lr=learning_rate)"
   ]
  },
  {
   "cell_type": "code",
   "execution_count": 14,
   "metadata": {},
   "outputs": [
    {
     "data": {
      "text/plain": [
       "'\\nSTEP 7: TRAIN THE MODEL\\n'"
      ]
     },
     "execution_count": 14,
     "metadata": {},
     "output_type": "execute_result"
    }
   ],
   "source": [
    "'''\n",
    "STEP 7: TRAIN THE MODEL\n",
    "'''\n",
    "# iter = 0\n",
    "# losses = []\n",
    "# accuracies = []\n",
    "# for epoch in range(1):\n",
    "#     for i, (images, labels) in enumerate(train_loader):\n",
    "#         # Load images with gradient accumulation capabilities\n",
    "# #         images = images.view(-1, 28*28).requires_grad_()\n",
    "\n",
    "#         # Clear gradients w.r.t. parameters\n",
    "#         optimizer.zero_grad()\n",
    "\n",
    "#         # Forward pass to get output/logits\n",
    "#         outputs = model(images)\n",
    "\n",
    "#         # Calculate Loss: softmax --> cross entropy loss\n",
    "#         loss = criterion(outputs, labels)\n",
    "\n",
    "#         # Getting gradients w.r.t. parameters\n",
    "#         loss.backward()\n",
    "\n",
    "#         # Updating parameters\n",
    "#         optimizer.step()\n",
    "\n",
    "#         iter += 1\n",
    "\n",
    "#         if iter % 60 == 0:\n",
    "#             # Calculate Accuracy         \n",
    "#             correct = 0\n",
    "#             total = 0\n",
    "#             # Iterate through test dataset\n",
    "#             for images, labels in test_loader:\n",
    "#                 # Load images with gradient accumulation capabilities\n",
    "# #                 images = images.view(-1, 28*28).requires_grad_()\n",
    "\n",
    "#                 # Forward pass only to get logits/output\n",
    "#                 outputs = model(images)\n",
    "\n",
    "#                 # Get predictions from the maximum value\n",
    "#                 _, predicted = torch.max(outputs.data, 1)\n",
    "\n",
    "#                 # Total number of labels\n",
    "#                 total += labels.size(0)\n",
    "\n",
    "#                 # Total correct predictions\n",
    "#                 correct += (predicted == labels).sum()\n",
    "\n",
    "#             accuracy = 100 * correct / total\n",
    "            \n",
    "#             accuracies.append(accuracy)\n",
    "#             losses.append(loss.item())\n",
    "            \n",
    "#             # Print Loss\n",
    "#             print('Iteration: {}. Loss: {}. Accuracy: {}'.format(iter, loss.item(), accuracy))"
   ]
  },
  {
   "cell_type": "code",
   "execution_count": null,
   "metadata": {},
   "outputs": [],
   "source": []
  }
 ],
 "metadata": {
  "kernelspec": {
   "display_name": "Python 3",
   "language": "python",
   "name": "python3"
  },
  "language_info": {
   "codemirror_mode": {
    "name": "ipython",
    "version": 3
   },
   "file_extension": ".py",
   "mimetype": "text/x-python",
   "name": "python",
   "nbconvert_exporter": "python",
   "pygments_lexer": "ipython3",
   "version": "3.6.5"
  }
 },
 "nbformat": 4,
 "nbformat_minor": 2
}
